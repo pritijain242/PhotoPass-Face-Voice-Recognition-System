{
 "cells": [
  {
   "cell_type": "code",
   "execution_count": 3,
   "id": "ac22e3f2-6961-4441-97d9-67995fda63b0",
   "metadata": {},
   "outputs": [
    {
     "name": "stdout",
     "output_type": "stream",
     "text": [
      "Dataset extracted successfully.\n"
     ]
    }
   ],
   "source": [
    "import tarfile\n",
    "import os\n",
    "\n",
    "# Path to the downloaded .tar.gz file\n",
    "tar_gz_path = r\"C:\\Users\\HP\\Downloads\\cv-corpus-17.0-delta-2024-03-15-en.tar.gz\"\n",
    "# Destination directory to extract the contents\n",
    "extract_dir = r\"C:\\Users\\HP\\Downloads\\cv_corpus_17\"\n",
    "\n",
    "# Extract the .tar.gz file\n",
    "with tarfile.open(tar_gz_path, \"r:gz\") as tar:\n",
    "    tar.extractall(path=extract_dir)\n",
    "\n",
    "print(\"Dataset extracted successfully.\")\n"
   ]
  },
  {
   "cell_type": "code",
   "execution_count": 1,
   "id": "510b9d1e-d54d-46b3-b96d-da6807ed7d2a",
   "metadata": {},
   "outputs": [
    {
     "name": "stdout",
     "output_type": "stream",
     "text": [
      "Checking directory: C:\\Users\\HP\\Downloads\\cv_corpus_17\\cv-corpus-17.0-delta-2024-03-15\\en\\clips\n",
      "Total .mp3 files found: 43205\n"
     ]
    }
   ],
   "source": [
    "import os\n",
    "\n",
    "# Path to the directory containing the mp3 files\n",
    "audio_dir = r\"C:\\Users\\HP\\Downloads\\cv_corpus_17\\cv-corpus-17.0-delta-2024-03-15\\en\\clips\"\n",
    "\n",
    "# Function to check and count mp3 files in the directory\n",
    "def check_files(data_dir):\n",
    "    file_count = 0\n",
    "    for root, dirs, files in os.walk(data_dir):\n",
    "        print(f\"Checking directory: {root}\")\n",
    "        for file_name in files:\n",
    "            if file_name.lower().endswith('.mp3'):\n",
    "                file_path = os.path.join(root, file_name)\n",
    "               # print(f\"Found file: {file_path}\")\n",
    "                file_count += 1\n",
    "    \n",
    "    print(f\"Total .mp3 files found: {file_count}\")\n",
    "\n",
    "# Check the files in the given directory\n",
    "check_files(audio_dir)\n"
   ]
  },
  {
   "cell_type": "code",
   "execution_count": 1,
   "id": "fac33e84-7e48-47fd-b787-42a0ad7b897e",
   "metadata": {},
   "outputs": [
    {
     "name": "stdout",
     "output_type": "stream",
     "text": [
      "Batch 0 saved with 1000 embeddings.\n",
      "Batch 1 saved with 1000 embeddings.\n",
      "Batch 2 saved with 1000 embeddings.\n",
      "Batch 3 saved with 1000 embeddings.\n",
      "Batch 4 saved with 1000 embeddings.\n",
      "Batch 5 saved with 1000 embeddings.\n",
      "Batch 6 saved with 1000 embeddings.\n",
      "Batch 7 saved with 1000 embeddings.\n",
      "Batch 8 saved with 1000 embeddings.\n",
      "Batch 9 saved with 1000 embeddings.\n",
      "Batch 10 saved with 1000 embeddings.\n",
      "Batch 11 saved with 1000 embeddings.\n",
      "Batch 12 saved with 1000 embeddings.\n",
      "Batch 13 saved with 1000 embeddings.\n",
      "Batch 14 saved with 1000 embeddings.\n",
      "Batch 15 saved with 1000 embeddings.\n",
      "Batch 16 saved with 1000 embeddings.\n",
      "Batch 17 saved with 1000 embeddings.\n",
      "Batch 18 saved with 1000 embeddings.\n",
      "Batch 19 saved with 1000 embeddings.\n",
      "Batch 20 saved with 1000 embeddings.\n",
      "Batch 21 saved with 1000 embeddings.\n",
      "Batch 22 saved with 1000 embeddings.\n",
      "Batch 23 saved with 1000 embeddings.\n",
      "Batch 24 saved with 1000 embeddings.\n",
      "Batch 25 saved with 1000 embeddings.\n",
      "Batch 26 saved with 1000 embeddings.\n",
      "Batch 27 saved with 1000 embeddings.\n",
      "Batch 28 saved with 1000 embeddings.\n",
      "Batch 29 saved with 1000 embeddings.\n",
      "Batch 30 saved with 1000 embeddings.\n",
      "Batch 31 saved with 1000 embeddings.\n",
      "Batch 32 saved with 1000 embeddings.\n",
      "Batch 33 saved with 1000 embeddings.\n",
      "Batch 34 saved with 1000 embeddings.\n",
      "Batch 35 saved with 1000 embeddings.\n",
      "Batch 36 saved with 1000 embeddings.\n",
      "Batch 37 saved with 1000 embeddings.\n",
      "Batch 38 saved with 1000 embeddings.\n",
      "Batch 39 saved with 1000 embeddings.\n",
      "Batch 40 saved with 1000 embeddings.\n",
      "Batch 41 saved with 1000 embeddings.\n",
      "Batch 42 saved with 1000 embeddings.\n",
      "Batch 43 saved with 205 embeddings.\n"
     ]
    }
   ],
   "source": [
    "import os\n",
    "import numpy as np\n",
    "import librosa\n",
    "\n",
    "def extract_mfcc(file_path, max_pad_len=100):\n",
    "    try:\n",
    "        audio, sample_rate = librosa.load(file_path, res_type='kaiser_fast')\n",
    "        mfcc = librosa.feature.mfcc(y=audio, sr=sample_rate, n_mfcc=40)\n",
    "        pad_width = max_pad_len - mfcc.shape[1]\n",
    "        if pad_width > 0:\n",
    "            mfcc = np.pad(mfcc, pad_width=((0, 0), (0, pad_width)), mode='constant')\n",
    "        else:\n",
    "            mfcc = mfcc[:, :max_pad_len]\n",
    "        return mfcc\n",
    "    except Exception as e:\n",
    "        print(f\"Error processing {file_path}: {e}\")\n",
    "        return None\n",
    "\n",
    "def process_batch(data_dir, batch_size=1000, batch_num=0):\n",
    "    embeddings = []\n",
    "    file_paths = []\n",
    "    batch_count = 0\n",
    "    \n",
    "    for root, _, files in os.walk(data_dir):\n",
    "        for file_name in files:\n",
    "            if file_name.lower().endswith('.mp3'):\n",
    "                file_path = os.path.join(root, file_name)\n",
    "                mfcc = extract_mfcc(file_path)\n",
    "                if mfcc is not None:\n",
    "                    embeddings.append(mfcc.flatten())  # Flatten to create 1D embedding\n",
    "                    file_paths.append(file_path)\n",
    "                    batch_count += 1\n",
    "\n",
    "                if batch_count >= batch_size:\n",
    "                    save_batch(embeddings, file_paths, batch_num)\n",
    "                    batch_num += 1\n",
    "                    embeddings, file_paths = [], []  # Reset for next batch\n",
    "                    batch_count = 0\n",
    "\n",
    "    # Save any remaining embeddings\n",
    "    if embeddings:\n",
    "        save_batch(embeddings, file_paths, batch_num)\n",
    "\n",
    "def save_batch(embeddings, file_paths, batch_num):\n",
    "    np.save(f\"embeddings_batch_{batch_num}.npy\", embeddings)\n",
    "    np.save(f\"file_paths_batch_{batch_num}.npy\", file_paths)\n",
    "    print(f\"Batch {batch_num} saved with {len(embeddings)} embeddings.\")\n",
    "\n",
    "# Process the dataset in batches\n",
    "audio_dir = r\"C:\\Users\\HP\\Downloads\\cv_corpus_17\\cv-corpus-17.0-delta-2024-03-15\\en\\clips\"\n",
    "process_batch(audio_dir, batch_size=1000)\n"
   ]
  },
  {
   "cell_type": "code",
   "execution_count": 13,
   "id": "f71ddf53-a0ba-4041-9f20-2c41eba2bb91",
   "metadata": {},
   "outputs": [
    {
     "name": "stdout",
     "output_type": "stream",
     "text": [
      "Recording for 3 seconds...\n",
      "Recording finished.\n",
      "Recorded audio shape: (48000, 1)\n"
     ]
    }
   ],
   "source": [
    "\n",
    "import sounddevice as sd\n",
    "import numpy as np\n",
    "\n",
    "def record_test():\n",
    "    print(\"Recording for 3 seconds...\")\n",
    "    audio = sd.rec(int(3 * 16000), samplerate=16000, channels=1)\n",
    "    sd.wait()  # Wait until recording is finished\n",
    "    print(\"Recording finished.\")\n",
    "    print(f\"Recorded audio shape: {audio.shape}\")\n",
    "    return audio\n",
    "\n",
    "# Test the recording\n",
    "recorded_audio = record_test()\n",
    "\n",
    "# Function to extract embedding from recorded audio\n",
    "def extract_embedding_from_audio(audio, sample_rate):\n",
    "    mfcc = librosa.feature.mfcc(y=audio, sr=sample_rate, n_mfcc=40)\n",
    "    mfcc = np.pad(mfcc, pad_width=((0, 0), (0, 100 - mfcc.shape[1])), mode='constant')\n",
    "    return mfcc.flatten()  # Flatten the MFCC to create a 1D embedding\n",
    "\n",
    "# Record real-time audio\n",
    "\n",
    "\n",
    "real_time_embedding = extract_embedding_from_audio(real_time_audio, 16000)\n"
   ]
  },
  {
   "cell_type": "code",
   "execution_count": 17,
   "id": "132e940c-0e30-4a85-ad02-cbd389da35a5",
   "metadata": {},
   "outputs": [
    {
     "name": "stdout",
     "output_type": "stream",
     "text": [
      "Access denied.\n"
     ]
    }
   ],
   "source": [
    "import numpy as np\n",
    "from scipy.spatial.distance import cosine\n",
    "\n",
    "def load_batch(batch_num):\n",
    "    embeddings = np.load(f\"embeddings_batch_{batch_num}.npy\")\n",
    "    file_paths = np.load(f\"file_paths_batch_{batch_num}.npy\")\n",
    "    return embeddings, file_paths\n",
    "\n",
    "def find_closest_match_in_batch(embedding, embeddings, file_paths):\n",
    "    min_distance = float(\"inf\")\n",
    "    closest_file = None\n",
    "    \n",
    "    for i, stored_embedding in enumerate(embeddings):\n",
    "        distance = cosine(embedding, stored_embedding)\n",
    "        if distance < min_distance:\n",
    "            min_distance = distance\n",
    "            closest_file = file_paths[i]\n",
    "    \n",
    "    return closest_file, min_distance\n",
    "\n",
    "def find_closest_match_across_batches(real_time_embedding, num_batches, threshold=0.5):\n",
    "    closest_file = None\n",
    "    min_distance = float(\"inf\")\n",
    "    \n",
    "    for batch_num in range(num_batches):\n",
    "        embeddings, file_paths = load_batch(batch_num)\n",
    "        batch_closest_file, batch_min_distance = find_closest_match_in_batch(real_time_embedding, embeddings, file_paths)\n",
    "        \n",
    "        if batch_min_distance < min_distance:\n",
    "            min_distance = batch_min_distance\n",
    "            closest_file = batch_closest_file\n",
    "            \n",
    "    return closest_file, min_distance\n",
    "\n",
    "# Example: Assume real_time_embedding is the embedding of the recorded audio\n",
    "num_batches = 43  # Number of batches saved\n",
    "closest_file, distance = find_closest_match_across_batches(real_time_embedding, num_batches)\n",
    "\n",
    "# Decision based on the closest match\n",
    "threshold=0.5\n",
    "if closest_file is not None and distance > threshold:\n",
    "    print(f\"Access granted. Closest match found: {closest_file} (Distance: {distance:.4f})\")\n",
    "else:\n",
    "    print(\"Access denied.\")\n"
   ]
  },
  {
   "cell_type": "code",
   "execution_count": null,
   "id": "e2e2aacb-b2f1-4a51-bd6a-8c32b60b53e7",
   "metadata": {},
   "outputs": [],
   "source": []
  }
 ],
 "metadata": {
  "kernelspec": {
   "display_name": "Python 3 (ipykernel)",
   "language": "python",
   "name": "python3"
  },
  "language_info": {
   "codemirror_mode": {
    "name": "ipython",
    "version": 3
   },
   "file_extension": ".py",
   "mimetype": "text/x-python",
   "name": "python",
   "nbconvert_exporter": "python",
   "pygments_lexer": "ipython3",
   "version": "3.11.5"
  }
 },
 "nbformat": 4,
 "nbformat_minor": 5
}
